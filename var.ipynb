{
 "cells": [
  {
   "cell_type": "code",
   "execution_count": 5,
   "metadata": {},
   "outputs": [
    {
     "name": "stdout",
     "output_type": "stream",
     "text": [
      "<class 'pandas.core.frame.DataFrame'>\n",
      "DatetimeIndex: 61368 entries, 2014-12-31 23:00:00+00:00 to 2021-12-31 22:00:00+00:00\n",
      "Columns: 222 entries, BE>NL to HR>SI\n",
      "dtypes: float64(222)\n",
      "memory usage: 104.4 MB\n"
     ]
    }
   ],
   "source": [
    "### Step 1: Read inflow data\n",
    "\n",
    "# Read data\n",
    "import pandas as pd\n",
    "pd. set_option('display.max_rows', None) \n",
    "inflow_data = \"data/cbf_data.csv\"\n",
    "inflow_data = pd.read_csv(inflow_data, parse_dates=True, index_col=0)\n",
    "\n",
    "# Preprocessing\n",
    "inflow_data = inflow_data.fillna(method='ffill')\n",
    "inflow_data = inflow_data.fillna(method='bfill')\n",
    "inflow_data.info()\n",
    "\n",
    "# Add some noise\n",
    "import numpy as np\n",
    "noise = np.random.normal(0, 0.01, inflow_data.shape) \n",
    "inflow_data = inflow_data + noise\n",
    "\n",
    "# Normalize to 0-1 range\n",
    "inflow_data=(inflow_data-inflow_data.min())/(inflow_data.max()-inflow_data.min())"
   ]
  },
  {
   "cell_type": "code",
   "execution_count": null,
   "metadata": {},
   "outputs": [],
   "source": [
    "### Step 1a: Make data stationary\n",
    "from statsmodels.tsa.stattools import adfuller\n",
    "\n",
    "def adfuller_test(series, signif=0.05):\n",
    "    \"\"\"Perform ADFuller to test for Stationarity of given series and print report\"\"\"\n",
    "    r = adfuller(series, autolag='AIC')\n",
    "    output = {'test_statistic':round(r[0], 4), 'pvalue':round(r[1], 4), 'n_lags':round(r[2], 4), 'n_obs':r[3]}\n",
    "    p_value = output['pvalue'] \n",
    "    def adjust(val, length= 6): return str(val).ljust(length)\n",
    "\n",
    "    if p_value <= signif:\n",
    "        return True\n",
    "    else:\n",
    "        return False\n",
    "\n",
    "# Difference until data is stationary\n",
    "stationary = False\n",
    "while not stationary:\n",
    "    stationary = True\n",
    "    for name, column in inflow_data.iteritems():\n",
    "        if not adfuller_test(column, 0.05):\n",
    "            print(\"data not stationary, differencing...\")\n",
    "            stationary = False\n",
    "            inflow_data = inflow_data.diff().dropna()\n",
    "            break\n"
   ]
  },
  {
   "cell_type": "code",
   "execution_count": 10,
   "metadata": {},
   "outputs": [
    {
     "name": "stdout",
     "output_type": "stream",
     "text": [
      "<class 'pandas.core.frame.DataFrame'>\n",
      "DatetimeIndex: 52610 entries, 2014-12-31 23:00:00+00:00 to 2021-01-01 00:00:00+00:00\n",
      "Columns: 222 entries, BE>NL to HR>SI\n",
      "dtypes: float64(222)\n",
      "memory usage: 89.5 MB\n",
      "<class 'pandas.core.frame.DataFrame'>\n",
      "DatetimeIndex: 8759 entries, 2021-01-01 00:00:00+00:00 to 2021-12-31 22:00:00+00:00\n",
      "Columns: 222 entries, BE>NL to HR>SI\n",
      "dtypes: float64(222)\n",
      "memory usage: 14.9 MB\n"
     ]
    }
   ],
   "source": [
    "### Step 1b: Split into training and testing data\n",
    "cutoff = pd.Timestamp(\"2021-01-01 00:00:00+00:00\")\n",
    "train_df = inflow_data.loc[:\"2021-01-01 00:00:00+00:00\", :]\n",
    "test_df = inflow_data.loc[\"2021-01-01 00:00:00+00:00\":, :]\n",
    "train_df.info()\n",
    "test_df.info()"
   ]
  },
  {
   "cell_type": "code",
   "execution_count": 11,
   "metadata": {},
   "outputs": [
    {
     "data": {
      "text/html": [
       "<table class=\"simpletable\">\n",
       "<caption>VAR Order Selection (* highlights the minimums)</caption>\n",
       "<tr>\n",
       "  <td></td>      <th>AIC</th>         <th>BIC</th>         <th>FPE</th>        <th>HQIC</th>    \n",
       "</tr>\n",
       "<tr>\n",
       "  <th>0</th> <td>    -1198.</td>  <td>    -1198.</td>  <td>     0.000*</td> <td>    -1198.</td> \n",
       "</tr>\n",
       "<tr>\n",
       "  <th>1</th> <td>    -1574.</td>  <td>    -1566.</td>  <td>     0.000</td>  <td>    -1572.</td> \n",
       "</tr>\n",
       "<tr>\n",
       "  <th>2</th> <td>    -1588.</td>  <td>    -1571.*</td> <td>     0.000</td>  <td>    -1583.*</td>\n",
       "</tr>\n",
       "<tr>\n",
       "  <th>3</th> <td>    -1590.</td>  <td>    -1565.</td>  <td>     0.000</td>  <td>    -1582.</td> \n",
       "</tr>\n",
       "<tr>\n",
       "  <th>4</th> <td>    -1590.</td>  <td>    -1557.</td>  <td>     0.000</td>  <td>    -1580.</td> \n",
       "</tr>\n",
       "<tr>\n",
       "  <th>5</th> <td>    -1591.</td>  <td>    -1549.</td>  <td>     0.000</td>  <td>    -1578.</td> \n",
       "</tr>\n",
       "<tr>\n",
       "  <th>6</th> <td>    -1591.</td>  <td>    -1541.</td>  <td>     0.000</td>  <td>    -1575.</td> \n",
       "</tr>\n",
       "<tr>\n",
       "  <th>7</th> <td>    -1591.</td>  <td>    -1533.</td>  <td>     0.000</td>  <td>    -1573.</td> \n",
       "</tr>\n",
       "<tr>\n",
       "  <th>8</th> <td>    -1592.*</td> <td>    -1525.</td>  <td>     0.000</td>  <td>    -1571.</td> \n",
       "</tr>\n",
       "</table>"
      ],
      "text/plain": [
       "<class 'statsmodels.iolib.table.SimpleTable'>"
      ]
     },
     "execution_count": 11,
     "metadata": {},
     "output_type": "execute_result"
    }
   ],
   "source": [
    "# Step 2: Create Vector Autoregressive Model and determine best lag order\n",
    "from statsmodels.tsa.vector_ar.var_model import VAR\n",
    "model = VAR(train_df, freq='H')\n",
    "x = model.select_order(maxlags=8)\n",
    "x.summary()"
   ]
  },
  {
   "cell_type": "code",
   "execution_count": 15,
   "metadata": {},
   "outputs": [],
   "source": [
    "# Step 3: Train model\n",
    "lag_order = 2\n",
    "trained_model = model.fit(lag_order) # Put desired lag order here"
   ]
  },
  {
   "cell_type": "code",
   "execution_count": 16,
   "metadata": {},
   "outputs": [
    {
     "name": "stdout",
     "output_type": "stream",
     "text": [
      "Params shape: (445, 222)\n",
      "Training data data shape: (52610, 222)\n",
      "Final prediction error:  0.0\n"
     ]
    }
   ],
   "source": [
    "# Step 4: Evaluate model\n",
    "print(\"Params shape: \"+ str(trained_model.params.shape))\n",
    "print(\"Training data data shape: \" + str(train_df.shape))\n",
    "print(\"Final prediction error: \", trained_model.fpe)"
   ]
  },
  {
   "cell_type": "code",
   "execution_count": 51,
   "metadata": {},
   "outputs": [
    {
     "name": "stderr",
     "output_type": "stream",
     "text": [
      "100%|██████████| 8759/8759 [00:02<00:00, 3024.43it/s]\n"
     ]
    },
    {
     "name": "stdout",
     "output_type": "stream",
     "text": [
      "<class 'pandas.core.frame.DataFrame'>\n",
      "DatetimeIndex: 8759 entries, 2021-01-01 00:00:00+00:00 to 2021-12-31 22:00:00+00:00\n",
      "Columns: 222 entries, BE>NL to HR>SI\n",
      "dtypes: float64(222)\n",
      "memory usage: 14.9 MB\n",
      "<class 'pandas.core.frame.DataFrame'>\n",
      "DatetimeIndex: 8759 entries, 2021-01-01 00:00:00+00:00 to 2021-12-31 22:00:00+00:00\n",
      "Columns: 222 entries, BE>NL to HR>SI\n",
      "dtypes: float64(222)\n",
      "memory usage: 14.9 MB\n"
     ]
    }
   ],
   "source": [
    "# TODO Step 4b: Do Forecast with trained model\n",
    "from tqdm import tqdm\n",
    "\n",
    "forecast_list = []\n",
    "index_list = []\n",
    "for index, _ in tqdm(test_df.iterrows(), total=test_df.shape[0]):\n",
    "\tinput_df = inflow_data.loc[:index].iloc[:-1].iloc[-lag_order:]\n",
    "\tinput_array = input_df.values\n",
    "\tfc = trained_model.forecast(input_array, steps=1)[0]\n",
    "\tforecast_list.append(fc)\n",
    "\tindex_list.append(index)\n",
    "\n",
    "prediction_df = pd.DataFrame(data=forecast_list, index=index_list, columns=test_df.columns)\n",
    "prediction_df.info()\n",
    "test_df.info()"
   ]
  },
  {
   "cell_type": "code",
   "execution_count": null,
   "metadata": {},
   "outputs": [],
   "source": [
    "### Step 4c: Plot predictions and compute errors"
   ]
  }
 ],
 "metadata": {
  "kernelspec": {
   "display_name": "Python 3",
   "language": "python",
   "name": "python3"
  },
  "language_info": {
   "codemirror_mode": {
    "name": "ipython",
    "version": 3
   },
   "file_extension": ".py",
   "mimetype": "text/x-python",
   "name": "python",
   "nbconvert_exporter": "python",
   "pygments_lexer": "ipython3",
   "version": "3.10.9"
  },
  "orig_nbformat": 4,
  "vscode": {
   "interpreter": {
    "hash": "0f49a82d134d7b4514c4dbb550322bed8be3125aa4116b8dee481cb8d6d97b2d"
   }
  }
 },
 "nbformat": 4,
 "nbformat_minor": 2
}
