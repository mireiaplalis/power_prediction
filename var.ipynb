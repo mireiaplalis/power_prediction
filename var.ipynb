{
 "cells": [
  {
   "cell_type": "code",
   "execution_count": null,
   "metadata": {},
   "outputs": [],
   "source": [
    "### Step 1: Read inflow data\n",
    "\n",
    "# Read data\n",
    "import pandas as pd\n",
    "pd. set_option('display.max_rows', None) \n",
    "inflow_data = \"data/flow_data.csv\"\n",
    "inflow_data = pd.read_csv(inflow_data, parse_dates=True, index_col=0)\n",
    "\n",
    "# Preprocessing\n",
    "inflow_data = inflow_data.fillna(method='ffill')\n",
    "inflow_data = inflow_data.fillna(method='bfill')\n",
    "inflow_data.info()\n",
    "\n",
    "# Add some noise\n",
    "import numpy as np\n",
    "noise = np.random.normal(0, 0.01, inflow_data.shape) \n",
    "inflow_data = inflow_data + noise\n",
    "\n",
    "# Normalize to 0-1 range\n",
    "inflow_data=(inflow_data-inflow_data.min())/(inflow_data.max()-inflow_data.min())"
   ]
  },
  {
   "cell_type": "code",
   "execution_count": null,
   "metadata": {},
   "outputs": [],
   "source": [
    "### Step 1a: Make data stationary\n",
    "from statsmodels.tsa.stattools import adfuller\n",
    "\n",
    "def adfuller_test(series, signif=0.05):\n",
    "    \"\"\"Perform ADFuller to test for Stationarity of given series and print report\"\"\"\n",
    "    r = adfuller(series, autolag='AIC')\n",
    "    output = {'test_statistic':round(r[0], 4), 'pvalue':round(r[1], 4), 'n_lags':round(r[2], 4), 'n_obs':r[3]}\n",
    "    p_value = output['pvalue'] \n",
    "    def adjust(val, length= 6): return str(val).ljust(length)\n",
    "\n",
    "    if p_value <= signif:\n",
    "        return True\n",
    "    else:\n",
    "        return False\n",
    "\n",
    "# Difference until data is stationary\n",
    "stationary = False\n",
    "while not stationary:\n",
    "    stationary = True\n",
    "    for name, column in inflow_data.iteritems():\n",
    "        if not adfuller_test(column, 0.05):\n",
    "            print(\"data not stationary, differencing...\")\n",
    "            stationary = False\n",
    "            inflow_data = inflow_data.diff().dropna()\n",
    "            break\n",
    "\n",
    "### TODO Step 1b: Split into training and testing data\n"
   ]
  },
  {
   "cell_type": "code",
   "execution_count": null,
   "metadata": {},
   "outputs": [],
   "source": [
    "# Step 2: Create Vector Autoregressive Model and determine best lag order\n",
    "from statsmodels.tsa.vector_ar.var_model import VAR\n",
    "model = VAR(inflow_data, freq='H')\n",
    "x = model.select_order(maxlags=32)\n",
    "x.summary()"
   ]
  },
  {
   "cell_type": "code",
   "execution_count": null,
   "metadata": {},
   "outputs": [],
   "source": [
    "# Step 3: Train model\n",
    "trained_model = model.fit(1) # Put desired lag order here"
   ]
  },
  {
   "cell_type": "code",
   "execution_count": null,
   "metadata": {},
   "outputs": [],
   "source": [
    "# Step 4: Evaluate model\n",
    "print(\"Params shape: \"+ str(trained_model.params.shape))\n",
    "print(\"Inflow data shape: \" + str(inflow_data.shape))\n",
    "print(\"Final prediction error: \", trained_model.fpe)"
   ]
  },
  {
   "cell_type": "code",
   "execution_count": null,
   "metadata": {},
   "outputs": [],
   "source": [
    "# TODO Step 4b: Do Forecast with trained model"
   ]
  },
  {
   "cell_type": "code",
   "execution_count": null,
   "metadata": {},
   "outputs": [],
   "source": []
  }
 ],
 "metadata": {
  "kernelspec": {
   "display_name": "Python 3",
   "language": "python",
   "name": "python3"
  },
  "language_info": {
   "codemirror_mode": {
    "name": "ipython",
    "version": 3
   },
   "file_extension": ".py",
   "mimetype": "text/x-python",
   "name": "python",
   "nbconvert_exporter": "python",
   "pygments_lexer": "ipython3",
   "version": "3.10.9 (tags/v3.10.9:1dd9be6, Dec  6 2022, 20:01:21) [MSC v.1934 64 bit (AMD64)]"
  },
  "orig_nbformat": 4,
  "vscode": {
   "interpreter": {
    "hash": "0f49a82d134d7b4514c4dbb550322bed8be3125aa4116b8dee481cb8d6d97b2d"
   }
  }
 },
 "nbformat": 4,
 "nbformat_minor": 2
}
