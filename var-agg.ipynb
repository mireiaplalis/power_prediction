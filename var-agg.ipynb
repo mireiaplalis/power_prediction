{
 "cells": [
  {
   "cell_type": "code",
   "execution_count": null,
   "metadata": {},
   "outputs": [],
   "source": [
    "### Step 1: Read flow data\n",
    "import numpy as np\n",
    "def aggregate_flows(flow_data):\n",
    "\tinflow_list = []\n",
    "\toutflow_list = []\n",
    "\ttimestamp_list = []\n",
    "\tfor index, _ in flow_data.iterrows():\n",
    "\t\tindex_str = str(index)\n",
    "\t\ttimestamp = pd.Timestamp(index_str)\n",
    "\t\tinflows = {}\n",
    "\t\toutflows = {}\n",
    "\t\tfor name, values in flow_data.loc[timestamp].items():\n",
    "\t\t\tcountry_from, country_to = str(name).split('>')\n",
    "\t\t\tinflows.setdefault(country_to, 0)\n",
    "\t\t\toutflows.setdefault(country_from, 0)\n",
    "\t\t\tinflows[country_to] += values\n",
    "\t\t\toutflows[country_from] += values\n",
    "\t\tinflow_list.append(inflows)\n",
    "\t\toutflow_list.append(outflows)\n",
    "\t\ttimestamp_list.append(timestamp)\n",
    "\tinflow_df = pd.DataFrame(data=inflow_list, index=timestamp_list)\n",
    "\toutflow_df = pd.DataFrame(data=outflow_list, index=timestamp_list)\n",
    "\n",
    "\treturn inflow_df, outflow_df\n",
    "\n",
    "# Read data\n",
    "import pandas as pd\n",
    "pd. set_option('display.max_rows', None) \n",
    "flow_data = \"data/preprocessed_data.csv\"\n",
    "flow_data = pd.read_csv(flow_data, parse_dates=True, index_col=0)\n",
    "\n",
    "# Add some noise #TODO necessary/other way? (fails without, for some reason)\n",
    "noise = np.random.uniform(0.0, 0.0001, flow_data.shape) \n",
    "flow_data = flow_data + noise\n",
    "\n",
    "# Generate aggregated data. #TODO russia, ukraine, belarus, turkey, albania, macedonia inflow only?\n",
    "inflow_df, outflow_df = aggregate_flows(flow_data)\n",
    "inflow_df.info()\n",
    "outflow_df.info()\n",
    "\n",
    "# Normalize to 0-1 range\n",
    "inflow_df=(inflow_df-inflow_df.min().min())/(inflow_df.max().max()-inflow_df.min().min())\n",
    "outflow_df=(outflow_df-outflow_df.min().min())/(outflow_df.max().max()-outflow_df.min().min())"
   ]
  },
  {
   "cell_type": "code",
   "execution_count": null,
   "metadata": {},
   "outputs": [],
   "source": [
    "### Step 1b: Split into training and testing data\n",
    "cutoff = pd.Timestamp(\"2021-01-01 00:00:00+00:00\")\n",
    "inflow_train = inflow_df.loc[:cutoff, :]\n",
    "inflow_test = inflow_df.loc[cutoff:, :]\n",
    "outflow_train = outflow_df.loc[:cutoff, :]\n",
    "outflow_test = outflow_df.loc[cutoff:, :]"
   ]
  },
  {
   "cell_type": "code",
   "execution_count": null,
   "metadata": {},
   "outputs": [],
   "source": [
    "# Step 2: Create Vector Autoregressive Model and determine best lag order\n",
    "from statsmodels.tsa.vector_ar.var_model import VAR\n",
    "inflow_model = VAR(inflow_train, freq='H')\n",
    "outflow_model = VAR(outflow_train, freq='H')\n",
    "inflow_res = inflow_model.select_order(maxlags=8)\n",
    "outflow_res = outflow_model.select_order(maxlags=8)\n",
    "\n",
    "inflow_res.summary()"
   ]
  },
  {
   "cell_type": "code",
   "execution_count": null,
   "metadata": {},
   "outputs": [],
   "source": [
    "# Step 3: Train model\n",
    "lag_order = 3\n",
    "trained_inflow = inflow_model.fit(lag_order)\n",
    "trained_outflow = outflow_model.fit(lag_order)"
   ]
  },
  {
   "cell_type": "code",
   "execution_count": null,
   "metadata": {},
   "outputs": [],
   "source": [
    "# Step 4: Evaluate model\n",
    "print(\"Inflow FPE: \", trained_inflow.fpe)\n",
    "print(\"Outflow FPE: \", trained_outflow.fpe)"
   ]
  },
  {
   "cell_type": "code",
   "execution_count": null,
   "metadata": {},
   "outputs": [],
   "source": [
    "# TODO Step 4b: Do Forecast with trained model\n",
    "from tqdm import tqdm\n",
    "\n",
    "# Inflow model predictions\n",
    "inflow_forecasts = []\n",
    "index_list = []\n",
    "for index, _ in tqdm(inflow_test.iterrows(), total=inflow_test.shape[0]):\n",
    "\tinput_df = inflow_df.loc[:index].iloc[:-1].iloc[-lag_order:]\n",
    "\tinput_array = input_df.values\n",
    "\tfc = trained_inflow.forecast(input_array, steps=1)[0]\n",
    "\tinflow_forecasts.append(fc)\n",
    "\tindex_list.append(index)\n",
    "inflow_preds = pd.DataFrame(data=inflow_forecasts, index=index_list, columns=inflow_test.columns)\n",
    "inflow_preds.info()\n",
    "\n",
    "# Outflow model predictions\n",
    "outflow_forecasts = []\n",
    "index_list = []\n",
    "for index, _ in tqdm(outflow_test.iterrows(), total=outflow_test.shape[0]):\n",
    "\tinput_df = outflow_df.loc[:index].iloc[:-1].iloc[-lag_order:]\n",
    "\tinput_array = input_df.values\n",
    "\tfc = trained_outflow.forecast(input_array, steps=1)[0]\n",
    "\toutflow_forecasts.append(fc)\n",
    "\tindex_list.append(index)\n",
    "outflow_preds = pd.DataFrame(data=outflow_forecasts, index=index_list, columns=outflow_test.columns)\n",
    "outflow_preds.info()"
   ]
  },
  {
   "cell_type": "code",
   "execution_count": null,
   "metadata": {},
   "outputs": [],
   "source": [
    "### Step 4c: Plot predictions and compute errors\\\n",
    "import matplotlib.pyplot as plt\n",
    "from tqdm import tqdm\n",
    "\n",
    "# Inflows\n",
    "fig_in, axes_in = plt.subplots(len(inflow_test.columns)//4, ncols=4, dpi=150, figsize=(20, 100))\n",
    "for (col, ax) in tqdm(zip(inflow_test.columns, axes_in.flatten())):\n",
    "\tinflow_test[col].plot(ax=ax)\n",
    "\tinflow_preds[col].plot(ax=ax)\n",
    "\tax.legend([\"true\", \"prediction\"])\n",
    "\tax.set_title(str(col) + \": Forecast vs Actuals\")\n",
    "\n",
    "# Outflows\n",
    "fig_out, axes_out = plt.subplots(len(outflow_test.columns)//4, ncols=4, dpi=150, figsize=(20,100))\n",
    "for (col, ax) in tqdm(zip(outflow_test.columns, axes_out.flatten())):\n",
    "\toutflow_test[col].plot(ax=ax)\n",
    "\toutflow_preds[col].plot(ax=ax)\n",
    "\tax.legend([\"true\", \"prediction\"])\n",
    "\tax.set_title(str(col) + \": Forecast vs Actuals\")"
   ]
  },
  {
   "cell_type": "code",
   "execution_count": null,
   "metadata": {},
   "outputs": [],
   "source": []
  }
 ],
 "metadata": {
  "kernelspec": {
   "display_name": "Python 3",
   "language": "python",
   "name": "python3"
  },
  "language_info": {
   "codemirror_mode": {
    "name": "ipython",
    "version": 3
   },
   "file_extension": ".py",
   "mimetype": "text/x-python",
   "name": "python",
   "nbconvert_exporter": "python",
   "pygments_lexer": "ipython3",
   "version": "3.10.9"
  },
  "orig_nbformat": 4,
  "vscode": {
   "interpreter": {
    "hash": "0f49a82d134d7b4514c4dbb550322bed8be3125aa4116b8dee481cb8d6d97b2d"
   }
  }
 },
 "nbformat": 4,
 "nbformat_minor": 2
}
