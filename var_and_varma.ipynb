{
 "cells": [
  {
   "cell_type": "code",
   "execution_count": 2,
   "metadata": {},
   "outputs": [
    {
     "name": "stdout",
     "output_type": "stream",
     "text": [
      "<class 'pandas.core.frame.DataFrame'>\n",
      "DatetimeIndex: 61368 entries, 2014-12-31 23:00:00+00:00 to 2021-12-31 22:00:00+00:00\n",
      "Columns: 222 entries, BE>NL to HR>SI\n",
      "dtypes: float64(222)\n",
      "memory usage: 104.4 MB\n"
     ]
    }
   ],
   "source": [
    "### Step 1: Read inflow data\n",
    "\n",
    "# Read data\n",
    "import pandas as pd\n",
    "pd. set_option('display.max_rows', None) \n",
    "inflow_data = \"data/flow_data.csv\"\n",
    "inflow_data = pd.read_csv(inflow_data, parse_dates=True, index_col=0)\n",
    "\n",
    "# Preprocessing\n",
    "inflow_data = inflow_data.fillna(method='ffill')\n",
    "inflow_data = inflow_data.fillna(method='bfill')\n",
    "inflow_data.info()\n",
    "\n",
    "# Add some noise\n",
    "import numpy as np\n",
    "noise = np.random.normal(0, 0.01, inflow_data.shape) \n",
    "inflow_data = inflow_data + noise\n",
    "\n",
    "# Normalize to 0-1 range\n",
    "inflow_data=(inflow_data-inflow_data.min())/(inflow_data.max()-inflow_data.min())"
   ]
  },
  {
   "cell_type": "code",
   "execution_count": 3,
   "metadata": {},
   "outputs": [],
   "source": [
    "### Step 1a: Make data stationary\n",
    "from statsmodels.tsa.stattools import adfuller\n",
    "\n",
    "def adfuller_test(series, signif=0.05):\n",
    "    \"\"\"Perform ADFuller to test for Stationarity of given series and print report\"\"\"\n",
    "    r = adfuller(series, autolag='AIC')\n",
    "    output = {'test_statistic':round(r[0], 4), 'pvalue':round(r[1], 4), 'n_lags':round(r[2], 4), 'n_obs':r[3]}\n",
    "    p_value = output['pvalue'] \n",
    "    def adjust(val, length= 6): return str(val).ljust(length)\n",
    "\n",
    "    if p_value <= signif:\n",
    "        return True\n",
    "    else:\n",
    "        return False\n",
    "\n",
    "# Difference until data is stationary\n",
    "# stationary = False\n",
    "# while not stationary:\n",
    "#     stationary = True\n",
    "#     for name, column in inflow_data.iteritems():\n",
    "#         if not adfuller_test(column, 0.05):\n",
    "#             print(\"data not stationary, differencing...\")\n",
    "#             stationary = False\n",
    "#             inflow_data = inflow_data.diff().dropna()\n",
    "#             break\n",
    "\n",
    "### TODO Step 1b: Split into training and testing data\n"
   ]
  },
  {
   "cell_type": "code",
   "execution_count": 4,
   "metadata": {},
   "outputs": [],
   "source": [
    "# Step 2: Create Vector Autoregressive Model and determine best lag order\n",
    "from statsmodels.tsa.vector_ar.var_model import VAR\n",
    "var_model = VAR(inflow_data, freq='H')\n",
    "x = var_model.select_order(maxlags=32)\n",
    "x.summary()"
   ]
  },
  {
   "cell_type": "code",
   "execution_count": null,
   "metadata": {},
   "outputs": [],
   "source": [
    "# Step 3: Train model\n",
    "var_trained_model = var_model.fit(1) # Put desired lag order here"
   ]
  },
  {
   "cell_type": "code",
   "execution_count": null,
   "metadata": {},
   "outputs": [],
   "source": [
    "# Step 4: Evaluate model\n",
    "print(\"Params shape: \"+ str(var_trained_model.params.shape))\n",
    "print(\"Inflow data shape: \" + str(inflow_data.shape))\n",
    "print(\"VAR Final prediction error: \", var_trained_model.fpe)"
   ]
  },
  {
   "cell_type": "code",
   "execution_count": null,
   "metadata": {},
   "outputs": [],
   "source": [
    "# TODO Step 4b: Do Forecast with trained model"
   ]
  },
  {
   "cell_type": "code",
   "execution_count": null,
   "metadata": {},
   "outputs": [],
   "source": [
    "from statsmodels.tsa.statespace.varmax import VARMAX\n",
    "varma_model = VARMAX(inflow_data, order=(1,2))\n",
    "varma_model.summary()"
   ]
  },
  {
   "cell_type": "code",
   "execution_count": null,
   "metadata": {},
   "outputs": [],
   "source": [
    "trained_varma_model = varma_model.fit()"
   ]
  },
  {
   "cell_type": "code",
   "execution_count": null,
   "metadata": {},
   "outputs": [],
   "source": [
    "print(\"Params shape: \"+ str(trained_varma_model.params.shape))\n",
    "print(\"Inflow data shape: \" + str(inflow_data.shape))\n",
    "print(\"VARMA Final prediction error: \", trained_varma_model.fpe)"
   ]
  },
  {
   "cell_type": "code",
   "execution_count": null,
   "metadata": {},
   "outputs": [],
   "source": [
    "# from statsmodels.tsa.statespace.varmax import VARMAX\n",
    "# from random import random\n",
    "\n",
    "# def VARMA_model(train,test):\n",
    "#     # fit model\n",
    "#     model = VARMAX(train, order=(1, 2))\n",
    "#     model_fit = model.fit(disp=False)\n",
    "#     # make prediction\n",
    "#     yhat = model_fit.forecast(steps=len(test))\n",
    "#     res=pd.DataFrame({\"Pred1\":yhat['Act1'], \"Pred2\":yhat['Act2'], \n",
    "#                       \"Act1\":test[\"Act1\"].values, \"Act2\":test[\"Act2\"].values})\n",
    "#     return res\n",
    "\n",
    "# df_train = pd.DataFrame({'Act1':[x + random()*10 for x in range(0, 100)],\n",
    "#                          'Act2':50+np.sin(np.linspace(0, 2*np.pi, 100))*50})\n",
    "# df_test = pd.DataFrame({'Act1':[x + random()*10 for x in range(101, 201)],\n",
    "#                          'Act2':50+np.sin(np.linspace(0, 2*np.pi, 100))*50})\n",
    "# df_ret = VARMA_model(df_train, df_test)\n",
    "# show_graph(df_train, df_ret, \"Vector Autoregression Moving-Average (VARMA)\")"
   ]
  }
 ],
 "metadata": {
  "kernelspec": {
   "display_name": "Python 3",
   "language": "python",
   "name": "python3"
  },
  "language_info": {
   "codemirror_mode": {
    "name": "ipython",
    "version": 3
   },
   "file_extension": ".py",
   "mimetype": "text/x-python",
   "name": "python",
   "nbconvert_exporter": "python",
   "pygments_lexer": "ipython3",
   "version": "3.10.6"
  },
  "orig_nbformat": 4,
  "vscode": {
   "interpreter": {
    "hash": "31f2aee4e71d21fbe5cf8b01ff0e069b9275f58929596ceb00d14d90e3e16cd6"
   }
  }
 },
 "nbformat": 4,
 "nbformat_minor": 2
}
